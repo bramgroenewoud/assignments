{
 "cells": [
  {
   "cell_type": "markdown",
   "metadata": {},
   "source": [
    "# Assignment for week 4\n",
    "\n",
    "Use the following table to provide us with\n",
    "\n",
    "|name | ANR|\n",
    "|----|----|\n",
    "|Bram Groenewoud| 342354|\n"
   ]
  },
  {
   "cell_type": "markdown",
   "metadata": {
    "collapsed": true
   },
   "source": [
    "In this assignment, we will play around with functions and use the `fsolve` routine to solve an equation.\n",
    "\n",
    "First, we need to import some libraries.\n",
    "\n",
    "Recall that you need to have installed plotly for this to work. Further, you need to register at the plotly website."
   ]
  },
  {
   "cell_type": "code",
   "execution_count": 22,
   "metadata": {
    "collapsed": false
   },
   "outputs": [
    {
     "data": {
      "text/html": [
       "<script>requirejs.config({paths: { 'plotly': ['https://cdn.plot.ly/plotly-latest.min']},});if(!window.Plotly) {{require(['plotly'],function(plotly) {window.Plotly=plotly;});}}</script>"
      ],
      "text/vnd.plotly.v1+html": [
       "<script>requirejs.config({paths: { 'plotly': ['https://cdn.plot.ly/plotly-latest.min']},});if(!window.Plotly) {{require(['plotly'],function(plotly) {window.Plotly=plotly;});}}</script>"
      ]
     },
     "metadata": {},
     "output_type": "display_data"
    }
   ],
   "source": [
    "from scipy import optimize\n",
    "\n",
    "from plotly.offline import download_plotlyjs, init_notebook_mode, plot, iplot\n",
    "from plotly.graph_objs import Bar, Scatter, Figure, Layout\n",
    "init_notebook_mode(connected=True)\n",
    "from numpy import arange\n"
   ]
  },
  {
   "cell_type": "markdown",
   "metadata": {},
   "source": [
    "Let us define the function $f(x) = x^2+c$ which is a function of $x$ for a given value of $c$."
   ]
  },
  {
   "cell_type": "code",
   "execution_count": 23,
   "metadata": {
    "collapsed": true
   },
   "outputs": [],
   "source": [
    "def my_function(x,c):\n",
    "    return x**2 + c"
   ]
  },
  {
   "cell_type": "markdown",
   "metadata": {},
   "source": [
    "Now we would like to solve $x^2 + c =0$. As this is a simple equation, you can this analytically. This helps us to understand how `fsolve` works.\n",
    "\n",
    "If you want to know more about `fsolve`, simply google \"python fsolve\".\n",
    "\n",
    "For our purposes here, we call `fsolve` as `optimize.fsolve`, then we give a function and an initial value where `fsolve` starts looking for a solution. `fsolve` uses numerical techniques to find the \"zero\" of a function; it does not solve the equation analytically. Roughly speaking, it looks at a value of $x$ whether it is above or below 0. If it is below 0, it needs to change $x$ in such a way that $f(x)$ increases. It uses the derivative $f'(x)$ to figure out whether it should increase or decrease $x$ to get to $f(x)=0$. So suppose that $f(x) < 0$ and $f'(x) >0$ then it will increase $x$ (move to the right) to a solution to $f(x) =0$.\n",
    "\n",
    "As `my_function` is actually a function of two variables ($x$ and $c$), we define a new \"anonymous\" function `lambda` that is only a function of $x$ and we solve for this function to 0. Say, we start looking for a solution at $x=1$, then we type:"
   ]
  },
  {
   "cell_type": "code",
   "execution_count": 25,
   "metadata": {
    "collapsed": false
   },
   "outputs": [
    {
     "data": {
      "text/plain": [
       "array([ 1.41421356])"
      ]
     },
     "execution_count": 25,
     "metadata": {},
     "output_type": "execute_result"
    }
   ],
   "source": [
    "optimize.fsolve(lambda x: my_function(x,-2),+1)"
   ]
  },
  {
   "cell_type": "markdown",
   "metadata": {},
   "source": [
    "This only gives one solution? But with a quadratic equation, there are usually two solutions. In the following cell give the python command to give the other solution:"
   ]
  },
  {
   "cell_type": "code",
   "execution_count": 26,
   "metadata": {
    "collapsed": false
   },
   "outputs": [
    {
     "data": {
      "text/plain": [
       "array([-1.41421356])"
      ]
     },
     "execution_count": 26,
     "metadata": {},
     "output_type": "execute_result"
    }
   ],
   "source": [
    "optimize.fsolve(lambda x: my_function(x,-2),-1)"
   ]
  },
  {
   "cell_type": "markdown",
   "metadata": {},
   "source": [
    "Now try the following cell. Explain below why you get an error message; $x=0$ does not solve this equation?"
   ]
  },
  {
   "cell_type": "code",
   "execution_count": 27,
   "metadata": {
    "collapsed": false
   },
   "outputs": [
    {
     "name": "stderr",
     "output_type": "stream",
     "text": [
      "C:\\Users\\Beheerder\\Anaconda3\\lib\\site-packages\\scipy\\optimize\\minpack.py:161: RuntimeWarning:\n",
      "\n",
      "The iteration is not making good progress, as measured by the \n",
      "  improvement from the last ten iterations.\n",
      "\n"
     ]
    },
    {
     "data": {
      "text/plain": [
       "array([ 0.])"
      ]
     },
     "execution_count": 27,
     "metadata": {},
     "output_type": "execute_result"
    }
   ],
   "source": [
    "optimize.fsolve(lambda x: my_function(x,-2),0)"
   ]
  },
  {
   "cell_type": "markdown",
   "metadata": {},
   "source": [
    "Type your explanation here:\n",
    "If you use $x = 0$ as the initial value, the derivative of $lambda(x)$ is 0. Therefore, fsolve does not know whether it should increase or decrease $x$ to get to $lambda(x) = 0$"
   ]
  },
  {
   "cell_type": "markdown",
   "metadata": {},
   "source": [
    "Now we let's consider another function, with $c = 2$ (instead of $c = -2$). Explain below why we get an error this time"
   ]
  },
  {
   "cell_type": "code",
   "execution_count": 5,
   "metadata": {
    "collapsed": false
   },
   "outputs": [
    {
     "name": "stderr",
     "output_type": "stream",
     "text": [
      "//anaconda/envs/py35/lib/python3.5/site-packages/scipy/optimize/minpack.py:161: RuntimeWarning: The iteration is not making good progress, as measured by the \n",
      "  improvement from the last ten iterations.\n",
      "  warnings.warn(msg, RuntimeWarning)\n"
     ]
    },
    {
     "data": {
      "text/plain": [
       "array([-0.00097656])"
      ]
     },
     "execution_count": 5,
     "metadata": {},
     "output_type": "execute_result"
    }
   ],
   "source": [
    "optimize.fsolve(lambda x: my_function(x,2),-1)"
   ]
  },
  {
   "cell_type": "markdown",
   "metadata": {},
   "source": [
    "Type your explanation here: No matter if $x$ is negative or positive number, $x^2$ will always be a positive number. If $c$ is also positive (in this case $c = 2$), $x^2 + c$ will always have a solution larger than 2. So it is impossible to solve the function to 0."
   ]
  },
  {
   "cell_type": "markdown",
   "metadata": {},
   "source": [
    "Now define the function $f(x) = \\frac{1}{x}$ in python:"
   ]
  },
  {
   "cell_type": "code",
   "execution_count": 60,
   "metadata": {
    "collapsed": true
   },
   "outputs": [],
   "source": [
    "def my_function2(x):\n",
    "    return (1/x)"
   ]
  },
  {
   "cell_type": "markdown",
   "metadata": {},
   "source": [
    "and use plotly to plot this function for $x > 0$. Adjust the range for $x$ so that you get a \"decent\" graph."
   ]
  },
  {
   "cell_type": "code",
   "execution_count": 64,
   "metadata": {
    "collapsed": false
   },
   "outputs": [
    {
     "name": "stderr",
     "output_type": "stream",
     "text": [
      "C:\\Users\\Beheerder\\Anaconda3\\lib\\site-packages\\ipykernel\\__main__.py:2: RuntimeWarning:\n",
      "\n",
      "divide by zero encountered in double_scalars\n",
      "\n"
     ]
    },
    {
     "data": {
      "application/vnd.plotly.v1+json": {
       "data": [
        {
         "x": [
          0,
          0.1,
          0.2,
          0.30000000000000004,
          0.4,
          0.5,
          0.6000000000000001,
          0.7000000000000001,
          0.8,
          0.9,
          1,
          1.1,
          1.2000000000000002,
          1.3,
          1.4000000000000001,
          1.5,
          1.6,
          1.7000000000000002,
          1.8,
          1.9000000000000001,
          2,
          2.1,
          2.2,
          2.3000000000000003,
          2.4000000000000004,
          2.5,
          2.6,
          2.7,
          2.8000000000000003,
          2.9000000000000004,
          3,
          3.1,
          3.2,
          3.3000000000000003,
          3.4000000000000004,
          3.5,
          3.6,
          3.7,
          3.8000000000000003,
          3.9000000000000004,
          4,
          4.1000000000000005,
          4.2,
          4.3,
          4.4,
          4.5,
          4.6000000000000005,
          4.7,
          4.800000000000001,
          4.9,
          5,
          5.1000000000000005,
          5.2,
          5.300000000000001,
          5.4,
          5.5,
          5.6000000000000005,
          5.7,
          5.800000000000001,
          5.9,
          6,
          6.1000000000000005,
          6.2,
          6.300000000000001,
          6.4,
          6.5,
          6.6000000000000005,
          6.7,
          6.800000000000001,
          6.9,
          7,
          7.1000000000000005,
          7.2,
          7.300000000000001,
          7.4,
          7.5,
          7.6000000000000005,
          7.7,
          7.800000000000001,
          7.9,
          8,
          8.1,
          8.200000000000001,
          8.3,
          8.4,
          8.5,
          8.6,
          8.700000000000001,
          8.8,
          8.9,
          9,
          9.1,
          9.200000000000001,
          9.3,
          9.4,
          9.5,
          9.600000000000001,
          9.700000000000001,
          9.8,
          9.9
         ],
         "y": [
          null,
          10,
          5,
          3.333333333333333,
          2.5,
          2,
          1.6666666666666665,
          1.4285714285714284,
          1.25,
          1.1111111111111112,
          1,
          0.9090909090909091,
          0.8333333333333333,
          0.7692307692307692,
          0.7142857142857142,
          0.6666666666666666,
          0.625,
          0.588235294117647,
          0.5555555555555556,
          0.5263157894736842,
          0.5,
          0.47619047619047616,
          0.45454545454545453,
          0.4347826086956521,
          0.41666666666666663,
          0.4,
          0.3846153846153846,
          0.37037037037037035,
          0.3571428571428571,
          0.3448275862068965,
          0.3333333333333333,
          0.3225806451612903,
          0.3125,
          0.303030303030303,
          0.2941176470588235,
          0.2857142857142857,
          0.2777777777777778,
          0.27027027027027023,
          0.2631578947368421,
          0.2564102564102564,
          0.25,
          0.2439024390243902,
          0.23809523809523808,
          0.23255813953488372,
          0.22727272727272727,
          0.2222222222222222,
          0.21739130434782605,
          0.2127659574468085,
          0.20833333333333331,
          0.2040816326530612,
          0.2,
          0.196078431372549,
          0.1923076923076923,
          0.18867924528301885,
          0.18518518518518517,
          0.18181818181818182,
          0.17857142857142855,
          0.17543859649122806,
          0.17241379310344826,
          0.1694915254237288,
          0.16666666666666666,
          0.16393442622950818,
          0.16129032258064516,
          0.15873015873015872,
          0.15625,
          0.15384615384615385,
          0.1515151515151515,
          0.14925373134328357,
          0.14705882352941174,
          0.14492753623188406,
          0.14285714285714285,
          0.1408450704225352,
          0.1388888888888889,
          0.136986301369863,
          0.13513513513513511,
          0.13333333333333333,
          0.13157894736842105,
          0.12987012987012986,
          0.1282051282051282,
          0.12658227848101264,
          0.125,
          0.1234567901234568,
          0.1219512195121951,
          0.12048192771084336,
          0.11904761904761904,
          0.11764705882352941,
          0.11627906976744186,
          0.11494252873563217,
          0.11363636363636363,
          0.11235955056179775,
          0.1111111111111111,
          0.10989010989010989,
          0.10869565217391303,
          0.1075268817204301,
          0.10638297872340426,
          0.10526315789473684,
          0.10416666666666666,
          0.10309278350515463,
          0.1020408163265306,
          0.10101010101010101
         ]
        }
       ],
       "layout": {}
      },
      "text/html": [
       "<div id=\"e3e72e55-4b0f-4939-b8d6-46acd98e1839\" style=\"height: 525px; width: 100%;\" class=\"plotly-graph-div\"></div><script type=\"text/javascript\">require([\"plotly\"], function(Plotly) { window.PLOTLYENV=window.PLOTLYENV || {};window.PLOTLYENV.BASE_URL=\"https://plot.ly\";Plotly.newPlot(\"e3e72e55-4b0f-4939-b8d6-46acd98e1839\", [{\"x\": [0.0, 0.1, 0.2, 0.30000000000000004, 0.4, 0.5, 0.6000000000000001, 0.7000000000000001, 0.8, 0.9, 1.0, 1.1, 1.2000000000000002, 1.3, 1.4000000000000001, 1.5, 1.6, 1.7000000000000002, 1.8, 1.9000000000000001, 2.0, 2.1, 2.2, 2.3000000000000003, 2.4000000000000004, 2.5, 2.6, 2.7, 2.8000000000000003, 2.9000000000000004, 3.0, 3.1, 3.2, 3.3000000000000003, 3.4000000000000004, 3.5, 3.6, 3.7, 3.8000000000000003, 3.9000000000000004, 4.0, 4.1000000000000005, 4.2, 4.3, 4.4, 4.5, 4.6000000000000005, 4.7, 4.800000000000001, 4.9, 5.0, 5.1000000000000005, 5.2, 5.300000000000001, 5.4, 5.5, 5.6000000000000005, 5.7, 5.800000000000001, 5.9, 6.0, 6.1000000000000005, 6.2, 6.300000000000001, 6.4, 6.5, 6.6000000000000005, 6.7, 6.800000000000001, 6.9, 7.0, 7.1000000000000005, 7.2, 7.300000000000001, 7.4, 7.5, 7.6000000000000005, 7.7, 7.800000000000001, 7.9, 8.0, 8.1, 8.200000000000001, 8.3, 8.4, 8.5, 8.6, 8.700000000000001, 8.8, 8.9, 9.0, 9.1, 9.200000000000001, 9.3, 9.4, 9.5, 9.600000000000001, 9.700000000000001, 9.8, 9.9], \"y\": [null, 10.0, 5.0, 3.333333333333333, 2.5, 2.0, 1.6666666666666665, 1.4285714285714284, 1.25, 1.1111111111111112, 1.0, 0.9090909090909091, 0.8333333333333333, 0.7692307692307692, 0.7142857142857142, 0.6666666666666666, 0.625, 0.588235294117647, 0.5555555555555556, 0.5263157894736842, 0.5, 0.47619047619047616, 0.45454545454545453, 0.4347826086956521, 0.41666666666666663, 0.4, 0.3846153846153846, 0.37037037037037035, 0.3571428571428571, 0.3448275862068965, 0.3333333333333333, 0.3225806451612903, 0.3125, 0.303030303030303, 0.2941176470588235, 0.2857142857142857, 0.2777777777777778, 0.27027027027027023, 0.2631578947368421, 0.2564102564102564, 0.25, 0.2439024390243902, 0.23809523809523808, 0.23255813953488372, 0.22727272727272727, 0.2222222222222222, 0.21739130434782605, 0.2127659574468085, 0.20833333333333331, 0.2040816326530612, 0.2, 0.196078431372549, 0.1923076923076923, 0.18867924528301885, 0.18518518518518517, 0.18181818181818182, 0.17857142857142855, 0.17543859649122806, 0.17241379310344826, 0.1694915254237288, 0.16666666666666666, 0.16393442622950818, 0.16129032258064516, 0.15873015873015872, 0.15625, 0.15384615384615385, 0.1515151515151515, 0.14925373134328357, 0.14705882352941174, 0.14492753623188406, 0.14285714285714285, 0.1408450704225352, 0.1388888888888889, 0.136986301369863, 0.13513513513513511, 0.13333333333333333, 0.13157894736842105, 0.12987012987012986, 0.1282051282051282, 0.12658227848101264, 0.125, 0.1234567901234568, 0.1219512195121951, 0.12048192771084336, 0.11904761904761904, 0.11764705882352941, 0.11627906976744186, 0.11494252873563217, 0.11363636363636363, 0.11235955056179775, 0.1111111111111111, 0.10989010989010989, 0.10869565217391303, 0.1075268817204301, 0.10638297872340426, 0.10526315789473684, 0.10416666666666666, 0.10309278350515463, 0.1020408163265306, 0.10101010101010101]}], {}, {\"showLink\": true, \"linkText\": \"Export to plot.ly\"})});</script>"
      ],
      "text/vnd.plotly.v1+html": [
       "<div id=\"e3e72e55-4b0f-4939-b8d6-46acd98e1839\" style=\"height: 525px; width: 100%;\" class=\"plotly-graph-div\"></div><script type=\"text/javascript\">require([\"plotly\"], function(Plotly) { window.PLOTLYENV=window.PLOTLYENV || {};window.PLOTLYENV.BASE_URL=\"https://plot.ly\";Plotly.newPlot(\"e3e72e55-4b0f-4939-b8d6-46acd98e1839\", [{\"x\": [0.0, 0.1, 0.2, 0.30000000000000004, 0.4, 0.5, 0.6000000000000001, 0.7000000000000001, 0.8, 0.9, 1.0, 1.1, 1.2000000000000002, 1.3, 1.4000000000000001, 1.5, 1.6, 1.7000000000000002, 1.8, 1.9000000000000001, 2.0, 2.1, 2.2, 2.3000000000000003, 2.4000000000000004, 2.5, 2.6, 2.7, 2.8000000000000003, 2.9000000000000004, 3.0, 3.1, 3.2, 3.3000000000000003, 3.4000000000000004, 3.5, 3.6, 3.7, 3.8000000000000003, 3.9000000000000004, 4.0, 4.1000000000000005, 4.2, 4.3, 4.4, 4.5, 4.6000000000000005, 4.7, 4.800000000000001, 4.9, 5.0, 5.1000000000000005, 5.2, 5.300000000000001, 5.4, 5.5, 5.6000000000000005, 5.7, 5.800000000000001, 5.9, 6.0, 6.1000000000000005, 6.2, 6.300000000000001, 6.4, 6.5, 6.6000000000000005, 6.7, 6.800000000000001, 6.9, 7.0, 7.1000000000000005, 7.2, 7.300000000000001, 7.4, 7.5, 7.6000000000000005, 7.7, 7.800000000000001, 7.9, 8.0, 8.1, 8.200000000000001, 8.3, 8.4, 8.5, 8.6, 8.700000000000001, 8.8, 8.9, 9.0, 9.1, 9.200000000000001, 9.3, 9.4, 9.5, 9.600000000000001, 9.700000000000001, 9.8, 9.9], \"y\": [null, 10.0, 5.0, 3.333333333333333, 2.5, 2.0, 1.6666666666666665, 1.4285714285714284, 1.25, 1.1111111111111112, 1.0, 0.9090909090909091, 0.8333333333333333, 0.7692307692307692, 0.7142857142857142, 0.6666666666666666, 0.625, 0.588235294117647, 0.5555555555555556, 0.5263157894736842, 0.5, 0.47619047619047616, 0.45454545454545453, 0.4347826086956521, 0.41666666666666663, 0.4, 0.3846153846153846, 0.37037037037037035, 0.3571428571428571, 0.3448275862068965, 0.3333333333333333, 0.3225806451612903, 0.3125, 0.303030303030303, 0.2941176470588235, 0.2857142857142857, 0.2777777777777778, 0.27027027027027023, 0.2631578947368421, 0.2564102564102564, 0.25, 0.2439024390243902, 0.23809523809523808, 0.23255813953488372, 0.22727272727272727, 0.2222222222222222, 0.21739130434782605, 0.2127659574468085, 0.20833333333333331, 0.2040816326530612, 0.2, 0.196078431372549, 0.1923076923076923, 0.18867924528301885, 0.18518518518518517, 0.18181818181818182, 0.17857142857142855, 0.17543859649122806, 0.17241379310344826, 0.1694915254237288, 0.16666666666666666, 0.16393442622950818, 0.16129032258064516, 0.15873015873015872, 0.15625, 0.15384615384615385, 0.1515151515151515, 0.14925373134328357, 0.14705882352941174, 0.14492753623188406, 0.14285714285714285, 0.1408450704225352, 0.1388888888888889, 0.136986301369863, 0.13513513513513511, 0.13333333333333333, 0.13157894736842105, 0.12987012987012986, 0.1282051282051282, 0.12658227848101264, 0.125, 0.1234567901234568, 0.1219512195121951, 0.12048192771084336, 0.11904761904761904, 0.11764705882352941, 0.11627906976744186, 0.11494252873563217, 0.11363636363636363, 0.11235955056179775, 0.1111111111111111, 0.10989010989010989, 0.10869565217391303, 0.1075268817204301, 0.10638297872340426, 0.10526315789473684, 0.10416666666666666, 0.10309278350515463, 0.1020408163265306, 0.10101010101010101]}], {}, {\"showLink\": true, \"linkText\": \"Export to plot.ly\"})});</script>"
      ]
     },
     "metadata": {},
     "output_type": "display_data"
    }
   ],
   "source": [
    "range_x = arange(0,10,0.1)\n",
    "iplot([{\"x\": range_x, \"y\": [1/x for x in range_x]}])"
   ]
  },
  {
   "cell_type": "code",
   "execution_count": null,
   "metadata": {
    "collapsed": true
   },
   "outputs": [],
   "source": []
  }
 ],
 "metadata": {
  "anaconda-cloud": {},
  "kernelspec": {
   "display_name": "Python 3",
   "language": "python",
   "name": "python3"
  },
  "language_info": {
   "codemirror_mode": {
    "name": "ipython",
    "version": 3
   },
   "file_extension": ".py",
   "mimetype": "text/x-python",
   "name": "python",
   "nbconvert_exporter": "python",
   "pygments_lexer": "ipython3",
   "version": "3.6.0"
  }
 },
 "nbformat": 4,
 "nbformat_minor": 0
}
